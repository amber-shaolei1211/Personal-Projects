{
 "cells": [
  {
   "cell_type": "markdown",
   "id": "9aae5a98",
   "metadata": {},
   "source": [
    "# ECON 143 Final Project\n",
    "\n",
    "Amber Shao"
   ]
  },
  {
   "cell_type": "markdown",
   "id": "622df938",
   "metadata": {},
   "source": [
    "## Research on the WTP for Covid-19 Vaccine for different groups of people in China\n",
    "\n",
    "This final project uses the dataset described in Jianhong Xiao, Yihui Wu, Min Wang, and Zegang Ma (2022). \"Scope Issue in Contingent Valuation Studies of the COVID-19 Vaccine: The Case of China\" Appl Health Econ Health Policy. 2022; 20(3): 417–429. A copy of this essay can be found online [here](https://www.ncbi.nlm.nih.gov/pmc/articles/PMC8743235/).    \n",
    "\n",
    "This survey used a double-bounded dichotomous choice method to elicit information on individuals' willingness to pay for the Covid-19 vaccine in China. The entire survey contains three parts: risk perception & attitude towards vaccination, willingness to pay, and individuals' socioeconomic characteristics. However, since this project only focuses on people's WTP from different socioeconomic backgrounds, we use the second and the third part of the survey to conduct the contingent valuation. \n",
    "\n",
    "The code section below presents the dataset along with two labels. While the left label demonstrates the WTP data section, the right lebel demonstrates the socioeconomic data section. "
   ]
  },
  {
   "cell_type": "markdown",
   "id": "6b2bf519",
   "metadata": {},
   "source": [
    "### Background: WTP data section\n",
    "For the WTP section, The first _scenario_ column includes 9 hypothetical scenarios composed of different levels of vaccine effectiveness, duration of protection, and side effects. The detail of this column is demonstrated by the label on the left attached below the dataframe. The second _yes_ column indicates one's willingness to receive the vaccine. If yes == 1, then this person is willing to receive vaccine; if yes == 0, then no. After understanding the scenario and expressing willingness to receive the vaccine, each sampled individual was first asked whether they would be willing to pay bid0 for the vaccine. The first price asked was randomly chosen to be 0, 50, 100, 200, 300, 500, 1000, or 2000, units in Chinese currency Yuan(¥). If they said \"No,\" they were then asked if they would be willing to pay the bidl price. If they said \"Yes,\" they were asked if they'd be willing to pay the bidh price. The prices initially asked and individuals' responses are recorded as bid0, response 1, and response2. \n",
    "\n",
    "For example, for the first surveyed individual, when he is first asked whether he would like to pay ¥1000 for the vaccine, he says no. Then, when he was asked whether he would like to pay ¥500 for the vaccine, he said yes. Therefore, his WTP range is [500,1000). For the second surveyed individual, when she was first asked whether she would like to pay ¥200 for the vaccine, she said yes. Then, when she is asked whether she would like to pay ¥300 for the vaccine, she also says yes. Therefore, his WTP range is [300,$\\infty$)."
   ]
  },
  {
   "cell_type": "markdown",
   "id": "ca977a8b",
   "metadata": {},
   "source": [
    "### Background: Socioeconomic data section\n",
    "There are 10 features asked in the socioeconomic data section. Each with a detailed explaination attached below as the labels on the right. "
   ]
  },
  {
   "cell_type": "code",
   "execution_count": 1,
   "id": "6a00d94d",
   "metadata": {},
   "outputs": [],
   "source": [
    "import numpy as np\n",
    "import scipy as sp\n",
    "import pandas as pd\n",
    "import matplotlib.pyplot as plt\n",
    "import statsmodels.formula.api as smf\n",
    "from IPython.display import Image\n",
    "from scipy.stats import norm\n",
    "import ipywidgets as widgets\n",
    "from __future__ import print_function\n",
    "from ipywidgets import interact, interactive, fixed, interact_manual"
   ]
  },
  {
   "cell_type": "code",
   "execution_count": 2,
   "id": "eb8dd27b",
   "metadata": {},
   "outputs": [
    {
     "data": {
      "text/html": [
       "<div>\n",
       "<style scoped>\n",
       "    .dataframe tbody tr th:only-of-type {\n",
       "        vertical-align: middle;\n",
       "    }\n",
       "\n",
       "    .dataframe tbody tr th {\n",
       "        vertical-align: top;\n",
       "    }\n",
       "\n",
       "    .dataframe thead th {\n",
       "        text-align: right;\n",
       "    }\n",
       "</style>\n",
       "<table border=\"1\" class=\"dataframe\">\n",
       "  <thead>\n",
       "    <tr style=\"text-align: right;\">\n",
       "      <th></th>\n",
       "      <th>scene</th>\n",
       "      <th>yes</th>\n",
       "      <th>response1</th>\n",
       "      <th>response2</th>\n",
       "      <th>bidl</th>\n",
       "      <th>bid0</th>\n",
       "      <th>bidh</th>\n",
       "      <th>age1</th>\n",
       "      <th>age</th>\n",
       "      <th>male</th>\n",
       "      <th>edu</th>\n",
       "      <th>inc2019</th>\n",
       "      <th>work</th>\n",
       "      <th>marriage</th>\n",
       "      <th>children</th>\n",
       "      <th>region</th>\n",
       "      <th>urban</th>\n",
       "      <th>ill</th>\n",
       "    </tr>\n",
       "  </thead>\n",
       "  <tbody>\n",
       "    <tr>\n",
       "      <th>0</th>\n",
       "      <td>9</td>\n",
       "      <td>1</td>\n",
       "      <td>0.0</td>\n",
       "      <td>1.0</td>\n",
       "      <td>500.0</td>\n",
       "      <td>1000.0</td>\n",
       "      <td>2000.0</td>\n",
       "      <td>42</td>\n",
       "      <td>4</td>\n",
       "      <td>1</td>\n",
       "      <td>3</td>\n",
       "      <td>4</td>\n",
       "      <td>0</td>\n",
       "      <td>1</td>\n",
       "      <td>1</td>\n",
       "      <td>1</td>\n",
       "      <td>1</td>\n",
       "      <td>0</td>\n",
       "    </tr>\n",
       "    <tr>\n",
       "      <th>1</th>\n",
       "      <td>1</td>\n",
       "      <td>0</td>\n",
       "      <td>NaN</td>\n",
       "      <td>NaN</td>\n",
       "      <td>NaN</td>\n",
       "      <td>NaN</td>\n",
       "      <td>NaN</td>\n",
       "      <td>35</td>\n",
       "      <td>3</td>\n",
       "      <td>0</td>\n",
       "      <td>3</td>\n",
       "      <td>3</td>\n",
       "      <td>0</td>\n",
       "      <td>1</td>\n",
       "      <td>1</td>\n",
       "      <td>1</td>\n",
       "      <td>1</td>\n",
       "      <td>0</td>\n",
       "    </tr>\n",
       "    <tr>\n",
       "      <th>2</th>\n",
       "      <td>8</td>\n",
       "      <td>1</td>\n",
       "      <td>1.0</td>\n",
       "      <td>1.0</td>\n",
       "      <td>100.0</td>\n",
       "      <td>200.0</td>\n",
       "      <td>300.0</td>\n",
       "      <td>34</td>\n",
       "      <td>3</td>\n",
       "      <td>0</td>\n",
       "      <td>2</td>\n",
       "      <td>3</td>\n",
       "      <td>0</td>\n",
       "      <td>1</td>\n",
       "      <td>1</td>\n",
       "      <td>3</td>\n",
       "      <td>1</td>\n",
       "      <td>0</td>\n",
       "    </tr>\n",
       "    <tr>\n",
       "      <th>3</th>\n",
       "      <td>5</td>\n",
       "      <td>1</td>\n",
       "      <td>1.0</td>\n",
       "      <td>1.0</td>\n",
       "      <td>50.0</td>\n",
       "      <td>100.0</td>\n",
       "      <td>200.0</td>\n",
       "      <td>34</td>\n",
       "      <td>3</td>\n",
       "      <td>0</td>\n",
       "      <td>2</td>\n",
       "      <td>3</td>\n",
       "      <td>0</td>\n",
       "      <td>1</td>\n",
       "      <td>1</td>\n",
       "      <td>3</td>\n",
       "      <td>1</td>\n",
       "      <td>1</td>\n",
       "    </tr>\n",
       "    <tr>\n",
       "      <th>4</th>\n",
       "      <td>3</td>\n",
       "      <td>1</td>\n",
       "      <td>1.0</td>\n",
       "      <td>1.0</td>\n",
       "      <td>200.0</td>\n",
       "      <td>300.0</td>\n",
       "      <td>500.0</td>\n",
       "      <td>35</td>\n",
       "      <td>3</td>\n",
       "      <td>0</td>\n",
       "      <td>2</td>\n",
       "      <td>4</td>\n",
       "      <td>0</td>\n",
       "      <td>1</td>\n",
       "      <td>1</td>\n",
       "      <td>3</td>\n",
       "      <td>1</td>\n",
       "      <td>0</td>\n",
       "    </tr>\n",
       "    <tr>\n",
       "      <th>5</th>\n",
       "      <td>3</td>\n",
       "      <td>1</td>\n",
       "      <td>1.0</td>\n",
       "      <td>1.0</td>\n",
       "      <td>100.0</td>\n",
       "      <td>200.0</td>\n",
       "      <td>300.0</td>\n",
       "      <td>34</td>\n",
       "      <td>3</td>\n",
       "      <td>1</td>\n",
       "      <td>3</td>\n",
       "      <td>4</td>\n",
       "      <td>0</td>\n",
       "      <td>1</td>\n",
       "      <td>1</td>\n",
       "      <td>1</td>\n",
       "      <td>1</td>\n",
       "      <td>0</td>\n",
       "    </tr>\n",
       "    <tr>\n",
       "      <th>6</th>\n",
       "      <td>5</td>\n",
       "      <td>1</td>\n",
       "      <td>1.0</td>\n",
       "      <td>0.0</td>\n",
       "      <td>500.0</td>\n",
       "      <td>1000.0</td>\n",
       "      <td>2000.0</td>\n",
       "      <td>35</td>\n",
       "      <td>3</td>\n",
       "      <td>0</td>\n",
       "      <td>2</td>\n",
       "      <td>3</td>\n",
       "      <td>0</td>\n",
       "      <td>1</td>\n",
       "      <td>1</td>\n",
       "      <td>1</td>\n",
       "      <td>1</td>\n",
       "      <td>0</td>\n",
       "    </tr>\n",
       "    <tr>\n",
       "      <th>7</th>\n",
       "      <td>4</td>\n",
       "      <td>1</td>\n",
       "      <td>1.0</td>\n",
       "      <td>0.0</td>\n",
       "      <td>50.0</td>\n",
       "      <td>100.0</td>\n",
       "      <td>200.0</td>\n",
       "      <td>36</td>\n",
       "      <td>3</td>\n",
       "      <td>0</td>\n",
       "      <td>2</td>\n",
       "      <td>3</td>\n",
       "      <td>0</td>\n",
       "      <td>1</td>\n",
       "      <td>0</td>\n",
       "      <td>1</td>\n",
       "      <td>0</td>\n",
       "      <td>0</td>\n",
       "    </tr>\n",
       "    <tr>\n",
       "      <th>8</th>\n",
       "      <td>5</td>\n",
       "      <td>1</td>\n",
       "      <td>0.0</td>\n",
       "      <td>0.0</td>\n",
       "      <td>500.0</td>\n",
       "      <td>1000.0</td>\n",
       "      <td>2000.0</td>\n",
       "      <td>36</td>\n",
       "      <td>3</td>\n",
       "      <td>1</td>\n",
       "      <td>3</td>\n",
       "      <td>4</td>\n",
       "      <td>0</td>\n",
       "      <td>1</td>\n",
       "      <td>1</td>\n",
       "      <td>1</td>\n",
       "      <td>1</td>\n",
       "      <td>0</td>\n",
       "    </tr>\n",
       "    <tr>\n",
       "      <th>9</th>\n",
       "      <td>8</td>\n",
       "      <td>1</td>\n",
       "      <td>1.0</td>\n",
       "      <td>1.0</td>\n",
       "      <td>100.0</td>\n",
       "      <td>200.0</td>\n",
       "      <td>300.0</td>\n",
       "      <td>34</td>\n",
       "      <td>3</td>\n",
       "      <td>0</td>\n",
       "      <td>2</td>\n",
       "      <td>4</td>\n",
       "      <td>0</td>\n",
       "      <td>0</td>\n",
       "      <td>0</td>\n",
       "      <td>1</td>\n",
       "      <td>1</td>\n",
       "      <td>0</td>\n",
       "    </tr>\n",
       "  </tbody>\n",
       "</table>\n",
       "</div>"
      ],
      "text/plain": [
       "   scene  yes  response1  response2   bidl    bid0    bidh  age1  age  male  \\\n",
       "0      9    1        0.0        1.0  500.0  1000.0  2000.0    42    4     1   \n",
       "1      1    0        NaN        NaN    NaN     NaN     NaN    35    3     0   \n",
       "2      8    1        1.0        1.0  100.0   200.0   300.0    34    3     0   \n",
       "3      5    1        1.0        1.0   50.0   100.0   200.0    34    3     0   \n",
       "4      3    1        1.0        1.0  200.0   300.0   500.0    35    3     0   \n",
       "5      3    1        1.0        1.0  100.0   200.0   300.0    34    3     1   \n",
       "6      5    1        1.0        0.0  500.0  1000.0  2000.0    35    3     0   \n",
       "7      4    1        1.0        0.0   50.0   100.0   200.0    36    3     0   \n",
       "8      5    1        0.0        0.0  500.0  1000.0  2000.0    36    3     1   \n",
       "9      8    1        1.0        1.0  100.0   200.0   300.0    34    3     0   \n",
       "\n",
       "   edu  inc2019  work  marriage  children  region  urban  ill  \n",
       "0    3        4     0         1         1       1      1    0  \n",
       "1    3        3     0         1         1       1      1    0  \n",
       "2    2        3     0         1         1       3      1    0  \n",
       "3    2        3     0         1         1       3      1    1  \n",
       "4    2        4     0         1         1       3      1    0  \n",
       "5    3        4     0         1         1       1      1    0  \n",
       "6    2        3     0         1         1       1      1    0  \n",
       "7    2        3     0         1         0       1      0    0  \n",
       "8    3        4     0         1         1       1      1    0  \n",
       "9    2        4     0         0         0       1      1    0  "
      ]
     },
     "execution_count": 2,
     "metadata": {},
     "output_type": "execute_result"
    }
   ],
   "source": [
    "data = pd.read_excel('Covid Vaccine WTP CN.xlsx', header = 0)\n",
    "data = data.iloc[:,13:31]\n",
    "data[0:10]"
   ]
  },
  {
   "cell_type": "markdown",
   "id": "cbde4729",
   "metadata": {},
   "source": [
    "<tr>\n",
    "    <td> <img src=\"key%20attributes.jpeg\" alt=\"Drawing\" style=\"width: 400px;\"/> </td>\n",
    "    <td> <img src=\"subsample.jpeg\" alt=\"Drawing\" style=\"width: 550px;\"/> </td>\n",
    "</tr>"
   ]
  },
  {
   "cell_type": "markdown",
   "id": "36f7e1ad",
   "metadata": {},
   "source": [
    "### Section 1. Examine the demography and the Socioeconomic Status of Group Unwilling to Get the Vaccine"
   ]
  },
  {
   "cell_type": "markdown",
   "id": "ec8f52b2",
   "metadata": {},
   "source": [
    "From the data analysis computed below, we know that among all the surveyed individuals, 545 of them refuse to be vaccinated regardless. This is approximately 22% of the sample. Suppose we visualize the proportion of different feature groups among the all no vaccination people. In that case, we can see that different feature groups in the no vaccination subsample are approximately the same distribution as in the overall pooled sample. For example, if we look at the pie chart for chronic disease, we might conclude that people without chronic disease are more likely to refuse vaccination because, for people refusing vaccination, 80.2% don't have chronic diseases, while 19.8% have. However, looking at the right labels above, we can see that this 8:2 ratio is the same no:yes ratio (82.7:17.3) in the overall sample. "
   ]
  },
  {
   "cell_type": "code",
   "execution_count": 3,
   "id": "a6905434",
   "metadata": {},
   "outputs": [
    {
     "name": "stdout",
     "output_type": "stream",
     "text": [
      "Number of people refuse to get the vaccine: 545\n",
      "The proportion of these people in the total surveyed sample: 0.22244897959183674\n"
     ]
    }
   ],
   "source": [
    "# compute the no vaccine sample size and its proportion within the overall pooled sample\n",
    "no_vac = data[data['yes']==0]\n",
    "print(\"Number of people refuse to get the vaccine: \" +\n",
    "      str(len(no_vac.axes[0])))\n",
    "print(\"The proportion of these people in the total surveyed sample: \" + \n",
    "      str(len(no_vac.axes[0])/len(data.axes[0])))"
   ]
  },
  {
   "cell_type": "code",
   "execution_count": 4,
   "id": "63ea3b63",
   "metadata": {},
   "outputs": [],
   "source": [
    "# define the function that can draw pie chart for each feature specified\n",
    "def categorical_comparison(data, target_feature):\n",
    "    label_list = np.unique(data[target_feature])\n",
    "    sizes = []\n",
    "    for i in label_list:\n",
    "        sizes.append(sum(data[target_feature] == i))\n",
    "    colors = ['#D4CDFF','#CEE3FF','#C9FFD9','#FFFECB']\n",
    "    fig, ax = plt.subplots()\n",
    "    ax.pie(sizes, labels=label_list, autopct='%1.1f%%', \n",
    "           wedgeprops = { 'linewidth' : 1, 'edgecolor' : 'white' }, \n",
    "           colors = colors)\n",
    "    ax.axis('equal')  # Equal aspect ratio ensures the pie chart is circular.\n",
    "    ax.set_title('Composition of different ' + target_feature + \n",
    "                 ' group in no vaccination people' )"
   ]
  },
  {
   "cell_type": "code",
   "execution_count": 5,
   "id": "340abd01",
   "metadata": {},
   "outputs": [
    {
     "data": {
      "image/png": "[encoded data removed]",
      "text/plain": [
       "<Figure size 432x288 with 1 Axes>"
      ]
     },
     "metadata": {},
     "output_type": "display_data"
    },
    {
     "data": {
      "image/png": "[encoded data removed]",
      "text/plain": [
       "<Figure size 432x288 with 1 Axes>"
      ]
     },
     "metadata": {},
     "output_type": "display_data"
    },
    {
     "data": {
      "image/png": "[encoded data removed]",
      "text/plain": [
       "<Figure size 432x288 with 1 Axes>"
      ]
     },
     "metadata": {},
     "output_type": "display_data"
    },
    {
     "data": {
      "image/png": "[encoded data removed]",
      "text/plain": [
       "<Figure size 432x288 with 1 Axes>"
      ]
     },
     "metadata": {},
     "output_type": "display_data"
    },
    {
     "data": {
      "image/png": "[encoded data removed]",
      "text/plain": [
       "<Figure size 432x288 with 1 Axes>"
      ]
     },
     "metadata": {},
     "output_type": "display_data"
    },
    {
     "data": {
      "image/png": "[encoded data removed]",
      "text/plain": [
       "<Figure size 432x288 with 1 Axes>"
      ]
     },
     "metadata": {},
     "output_type": "display_data"
    },
    {
     "data": {
      "image/png": "[encoded data removed]",
      "text/plain": [
       "<Figure size 432x288 with 1 Axes>"
      ]
     },
     "metadata": {},
     "output_type": "display_data"
    },
    {
     "data": {
      "image/png": "[encoded data removed]",
      "text/plain": [
       "<Figure size 432x288 with 1 Axes>"
      ]
     },
     "metadata": {},
     "output_type": "display_data"
    },
    {
     "data": {
      "image/png": "[encoded data removed]",
      "text/plain": [
       "<Figure size 432x288 with 1 Axes>"
      ]
     },
     "metadata": {},
     "output_type": "display_data"
    },
    {
     "data": {
      "image/png": "[encoded data removed]",
      "text/plain": [
       "<Figure size 432x288 with 1 Axes>"
      ]
     },
     "metadata": {},
     "output_type": "display_data"
    }
   ],
   "source": [
    "# visualize each features' composition in the no vaccine subsample \n",
    "for variables in ['age', 'male','edu','inc2019','work','marriage','children', 'region','urban','ill']:\n",
    "    categorical_comparison(no_vac, variables)"
   ]
  },
  {
   "cell_type": "markdown",
   "id": "bde36deb",
   "metadata": {},
   "source": [
    "### Section 2. Examine Willingness-to-Pay in general Using Nonparametric Estimation "
   ]
  },
  {
   "cell_type": "markdown",
   "id": "909ba587",
   "metadata": {},
   "source": [
    "In order to compute the median WTP, we first need to compute individuals' WTP range. Based on the logic discussed in the introduction, we make the following operation: \n",
    "- First, we need to list out all 8 possible disjoint interval values $\\mathbb{B}$ = {0, 50, 100, 200, 300, 500, 1000, 2000, $\\infty$}\n",
    "- Since each initial asked price is randomly assigned, let $B^{L}_{i}$ be **bidl**, $B^{M}_{i}$ exactly the value of **bid0** and $B^{H}_{i}$ **bidh**. Let $Y_i$ be a household $i$'s true willingness-to-pay for the vaccine, then \n",
    "$$ \\operatorname{Pr}\\left(B_{i}^{L} \\leq Y_{i} \\leq B_{i}^{M} \\mid B_{i}^{L}=b_{j}, B_{i}^{M}=b_{K}\\right)=\\operatorname{Pr}\\left(b_{j} \\leq Y_{i} \\leq b_{k}\\right). $$\n",
    "- If (1st=0, 2nd=1), this person refuses bid0 but accepts bidl. Therefore, this person's WTP range is [bidl, bid0). \n",
    "- If (1st=1, 2nd=0), this person accepts bid0 but refuses bidh. Therefore, this person's WTP range is [bid0, bidh). \n",
    "- If (1st=1, 2nd=1), this person accepts both bid0 and bidh. Then, this person's WTP range is [bidh, $\\infty$).\n",
    "- If (1st=0, 2nd=0), this means this person refused both bid0 and bidl. Then, the WTP range will be [0, bidl)."
   ]
  },
  {
   "cell_type": "code",
   "execution_count": 6,
   "id": "7ebd67be",
   "metadata": {},
   "outputs": [],
   "source": [
    "vac = data[data['yes']==1].copy()\n",
    "\n",
    "vac[\"LB\"] = -9 \n",
    "vac[\"UB\"] = -9 \n",
    "\n",
    "# lower bound construction\n",
    "# yes-yes responders\n",
    "vac.loc[(vac[\"response1\"]==1) & (vac[\"response2\"]==1), \"LB\"] = vac[\"bidh\"]\n",
    "\n",
    "# yes-no responders\n",
    "vac.loc[(vac[\"response1\"]==1) & (vac[\"response2\"]==0), \"LB\"] = vac[\"bid0\"]\n",
    "\n",
    "# no-yes responders\n",
    "vac.loc[(vac[\"response1\"]==0) & (vac[\"response2\"]==1), \"LB\"] = vac[\"bidl\"]\n",
    "\n",
    "# no-no responders\n",
    "vac.loc[(vac[\"response1\"]==0) & (vac[\"response2\"]==0), \"LB\"] = 0\n",
    "\n",
    "# upper bound construction\n",
    "# yes-yes responders\n",
    "vac.loc[(vac[\"response1\"]==1) & (vac[\"response2\"]==1), \"UB\"] = np.inf\n",
    "\n",
    "# yes-no responders\n",
    "vac.loc[(vac[\"response1\"]==1) & (vac[\"response2\"]==0), \"UB\"] = vac['bidh']\n",
    "\n",
    "# no-yes responders\n",
    "vac.loc[(vac[\"response1\"]==0) & (vac[\"response2\"]==1), \"UB\"] = vac['bid0']\n",
    "\n",
    "# no-no responders\n",
    "vac.loc[(vac[\"response1\"]==0) & (vac[\"response2\"]==0), \"UB\"] = vac['bidl']"
   ]
  },
  {
   "cell_type": "code",
   "execution_count": 7,
   "id": "3e62ab12",
   "metadata": {},
   "outputs": [
    {
     "data": {
      "text/html": [
       "<div>\n",
       "<style scoped>\n",
       "    .dataframe tbody tr th:only-of-type {\n",
       "        vertical-align: middle;\n",
       "    }\n",
       "\n",
       "    .dataframe tbody tr th {\n",
       "        vertical-align: top;\n",
       "    }\n",
       "\n",
       "    .dataframe thead th {\n",
       "        text-align: right;\n",
       "    }\n",
       "</style>\n",
       "<table border=\"1\" class=\"dataframe\">\n",
       "  <thead>\n",
       "    <tr style=\"text-align: right;\">\n",
       "      <th></th>\n",
       "      <th>response1</th>\n",
       "      <th>response2</th>\n",
       "      <th>bid0</th>\n",
       "      <th>LB</th>\n",
       "      <th>UB</th>\n",
       "    </tr>\n",
       "  </thead>\n",
       "  <tbody>\n",
       "    <tr>\n",
       "      <th>0</th>\n",
       "      <td>0.0</td>\n",
       "      <td>1.0</td>\n",
       "      <td>1000.0</td>\n",
       "      <td>500.0</td>\n",
       "      <td>1000.0</td>\n",
       "    </tr>\n",
       "    <tr>\n",
       "      <th>2</th>\n",
       "      <td>1.0</td>\n",
       "      <td>1.0</td>\n",
       "      <td>200.0</td>\n",
       "      <td>300.0</td>\n",
       "      <td>inf</td>\n",
       "    </tr>\n",
       "    <tr>\n",
       "      <th>3</th>\n",
       "      <td>1.0</td>\n",
       "      <td>1.0</td>\n",
       "      <td>100.0</td>\n",
       "      <td>200.0</td>\n",
       "      <td>inf</td>\n",
       "    </tr>\n",
       "    <tr>\n",
       "      <th>4</th>\n",
       "      <td>1.0</td>\n",
       "      <td>1.0</td>\n",
       "      <td>300.0</td>\n",
       "      <td>500.0</td>\n",
       "      <td>inf</td>\n",
       "    </tr>\n",
       "    <tr>\n",
       "      <th>5</th>\n",
       "      <td>1.0</td>\n",
       "      <td>1.0</td>\n",
       "      <td>200.0</td>\n",
       "      <td>300.0</td>\n",
       "      <td>inf</td>\n",
       "    </tr>\n",
       "    <tr>\n",
       "      <th>6</th>\n",
       "      <td>1.0</td>\n",
       "      <td>0.0</td>\n",
       "      <td>1000.0</td>\n",
       "      <td>1000.0</td>\n",
       "      <td>2000.0</td>\n",
       "    </tr>\n",
       "    <tr>\n",
       "      <th>7</th>\n",
       "      <td>1.0</td>\n",
       "      <td>0.0</td>\n",
       "      <td>100.0</td>\n",
       "      <td>100.0</td>\n",
       "      <td>200.0</td>\n",
       "    </tr>\n",
       "    <tr>\n",
       "      <th>8</th>\n",
       "      <td>0.0</td>\n",
       "      <td>0.0</td>\n",
       "      <td>1000.0</td>\n",
       "      <td>0.0</td>\n",
       "      <td>500.0</td>\n",
       "    </tr>\n",
       "    <tr>\n",
       "      <th>9</th>\n",
       "      <td>1.0</td>\n",
       "      <td>1.0</td>\n",
       "      <td>200.0</td>\n",
       "      <td>300.0</td>\n",
       "      <td>inf</td>\n",
       "    </tr>\n",
       "    <tr>\n",
       "      <th>10</th>\n",
       "      <td>0.0</td>\n",
       "      <td>1.0</td>\n",
       "      <td>1000.0</td>\n",
       "      <td>500.0</td>\n",
       "      <td>1000.0</td>\n",
       "    </tr>\n",
       "  </tbody>\n",
       "</table>\n",
       "</div>"
      ],
      "text/plain": [
       "    response1  response2    bid0      LB      UB\n",
       "0         0.0        1.0  1000.0   500.0  1000.0\n",
       "2         1.0        1.0   200.0   300.0     inf\n",
       "3         1.0        1.0   100.0   200.0     inf\n",
       "4         1.0        1.0   300.0   500.0     inf\n",
       "5         1.0        1.0   200.0   300.0     inf\n",
       "6         1.0        0.0  1000.0  1000.0  2000.0\n",
       "7         1.0        0.0   100.0   100.0   200.0\n",
       "8         0.0        0.0  1000.0     0.0   500.0\n",
       "9         1.0        1.0   200.0   300.0     inf\n",
       "10        0.0        1.0  1000.0   500.0  1000.0"
      ]
     },
     "execution_count": 7,
     "metadata": {},
     "output_type": "execute_result"
    }
   ],
   "source": [
    "vac[[\"response1\",\"response2\",\"bid0\",\"LB\",\"UB\"]][0:10]"
   ]
  },
  {
   "cell_type": "markdown",
   "id": "451e0ab4",
   "metadata": {},
   "source": [
    "Since we have 8 disjoint intervals, let D1 = [0,50), D2 = [50,100), D3 = [100,200), ... , D8 = [2000, infinity). Then, we can test whether individuals' willingness to pay fall within each disjoint intervals. If so, the code below will return 1, otherwise, 0. For example, D1=1 indicates this person's WTP is within [0,50); D2=1 indicates this person's WTP is within [50,100), so on and so forth.\n",
    "\n",
    "Using the first two rows as example, we can see that the first person has 1 for D6, meaning his WTP is within the interval:[500,1000), which is the WTP range listed above.  The second surveyed individual has 1 for D5, D6, D7, and D8. This means that his WTP is within last four intervals: [300,500), [500,1000), [1000,2000), and [2000, $\\infty$). Combining these four intervals together, we have [300,$\\infty$), which is\n",
    "listed in the chart above as the second row. "
   ]
  },
  {
   "cell_type": "code",
   "execution_count": 8,
   "id": "bd95cb29",
   "metadata": {},
   "outputs": [
    {
     "data": {
      "text/html": [
       "<div>\n",
       "<style scoped>\n",
       "    .dataframe tbody tr th:only-of-type {\n",
       "        vertical-align: middle;\n",
       "    }\n",
       "\n",
       "    .dataframe tbody tr th {\n",
       "        vertical-align: top;\n",
       "    }\n",
       "\n",
       "    .dataframe thead th {\n",
       "        text-align: right;\n",
       "    }\n",
       "</style>\n",
       "<table border=\"1\" class=\"dataframe\">\n",
       "  <thead>\n",
       "    <tr style=\"text-align: right;\">\n",
       "      <th></th>\n",
       "      <th>D1</th>\n",
       "      <th>D2</th>\n",
       "      <th>D3</th>\n",
       "      <th>D4</th>\n",
       "      <th>D5</th>\n",
       "      <th>D6</th>\n",
       "      <th>D7</th>\n",
       "      <th>D8</th>\n",
       "    </tr>\n",
       "  </thead>\n",
       "  <tbody>\n",
       "    <tr>\n",
       "      <th>0</th>\n",
       "      <td>0</td>\n",
       "      <td>0</td>\n",
       "      <td>0</td>\n",
       "      <td>0</td>\n",
       "      <td>0</td>\n",
       "      <td>1</td>\n",
       "      <td>0</td>\n",
       "      <td>0</td>\n",
       "    </tr>\n",
       "    <tr>\n",
       "      <th>2</th>\n",
       "      <td>0</td>\n",
       "      <td>0</td>\n",
       "      <td>0</td>\n",
       "      <td>0</td>\n",
       "      <td>1</td>\n",
       "      <td>1</td>\n",
       "      <td>1</td>\n",
       "      <td>1</td>\n",
       "    </tr>\n",
       "    <tr>\n",
       "      <th>3</th>\n",
       "      <td>0</td>\n",
       "      <td>0</td>\n",
       "      <td>0</td>\n",
       "      <td>1</td>\n",
       "      <td>1</td>\n",
       "      <td>1</td>\n",
       "      <td>1</td>\n",
       "      <td>1</td>\n",
       "    </tr>\n",
       "    <tr>\n",
       "      <th>4</th>\n",
       "      <td>0</td>\n",
       "      <td>0</td>\n",
       "      <td>0</td>\n",
       "      <td>0</td>\n",
       "      <td>0</td>\n",
       "      <td>1</td>\n",
       "      <td>1</td>\n",
       "      <td>1</td>\n",
       "    </tr>\n",
       "    <tr>\n",
       "      <th>5</th>\n",
       "      <td>0</td>\n",
       "      <td>0</td>\n",
       "      <td>0</td>\n",
       "      <td>0</td>\n",
       "      <td>1</td>\n",
       "      <td>1</td>\n",
       "      <td>1</td>\n",
       "      <td>1</td>\n",
       "    </tr>\n",
       "    <tr>\n",
       "      <th>6</th>\n",
       "      <td>0</td>\n",
       "      <td>0</td>\n",
       "      <td>0</td>\n",
       "      <td>0</td>\n",
       "      <td>0</td>\n",
       "      <td>0</td>\n",
       "      <td>1</td>\n",
       "      <td>0</td>\n",
       "    </tr>\n",
       "    <tr>\n",
       "      <th>7</th>\n",
       "      <td>0</td>\n",
       "      <td>0</td>\n",
       "      <td>1</td>\n",
       "      <td>0</td>\n",
       "      <td>0</td>\n",
       "      <td>0</td>\n",
       "      <td>0</td>\n",
       "      <td>0</td>\n",
       "    </tr>\n",
       "    <tr>\n",
       "      <th>8</th>\n",
       "      <td>1</td>\n",
       "      <td>1</td>\n",
       "      <td>1</td>\n",
       "      <td>1</td>\n",
       "      <td>1</td>\n",
       "      <td>0</td>\n",
       "      <td>0</td>\n",
       "      <td>0</td>\n",
       "    </tr>\n",
       "    <tr>\n",
       "      <th>9</th>\n",
       "      <td>0</td>\n",
       "      <td>0</td>\n",
       "      <td>0</td>\n",
       "      <td>0</td>\n",
       "      <td>1</td>\n",
       "      <td>1</td>\n",
       "      <td>1</td>\n",
       "      <td>1</td>\n",
       "    </tr>\n",
       "    <tr>\n",
       "      <th>10</th>\n",
       "      <td>0</td>\n",
       "      <td>0</td>\n",
       "      <td>0</td>\n",
       "      <td>0</td>\n",
       "      <td>0</td>\n",
       "      <td>1</td>\n",
       "      <td>0</td>\n",
       "      <td>0</td>\n",
       "    </tr>\n",
       "  </tbody>\n",
       "</table>\n",
       "</div>"
      ],
      "text/plain": [
       "    D1  D2  D3  D4  D5  D6  D7  D8\n",
       "0    0   0   0   0   0   1   0   0\n",
       "2    0   0   0   0   1   1   1   1\n",
       "3    0   0   0   1   1   1   1   1\n",
       "4    0   0   0   0   0   1   1   1\n",
       "5    0   0   0   0   1   1   1   1\n",
       "6    0   0   0   0   0   0   1   0\n",
       "7    0   0   1   0   0   0   0   0\n",
       "8    1   1   1   1   1   0   0   0\n",
       "9    0   0   0   0   1   1   1   1\n",
       "10   0   0   0   0   0   1   0   0"
      ]
     },
     "execution_count": 8,
     "metadata": {},
     "output_type": "execute_result"
    }
   ],
   "source": [
    "vac[\"D1\"] = ((vac[\"LB\"]<=0) & (vac[\"UB\"]>=50))*1\n",
    "vac[\"D2\"] = ((vac[\"LB\"]<=50) & (vac[\"UB\"]>=100))*1\n",
    "vac[\"D3\"] = ((vac[\"LB\"]<=100) & (vac[\"UB\"]>=200))*1\n",
    "vac[\"D4\"] = ((vac[\"LB\"]<=200) & (vac[\"UB\"]>=300))*1\n",
    "vac[\"D5\"] = ((vac[\"LB\"]<=300) & (vac[\"UB\"]>=500))*1\n",
    "vac[\"D6\"] = ((vac[\"LB\"]<=500) & (vac[\"UB\"]>=1000))*1\n",
    "vac[\"D7\"] = ((vac[\"LB\"]<=1000) & (vac[\"UB\"]>=2000))*1\n",
    "vac[\"D8\"] = ((vac[\"LB\"]<=2000) & (vac[\"UB\"]>=np.inf))*1\n",
    "\n",
    "vac[[\"D1\",\"D2\",\"D3\",\"D4\",\"D5\",\"D6\",\"D7\",\"D8\"]][0:10]"
   ]
  },
  {
   "cell_type": "markdown",
   "id": "1e1a32b0",
   "metadata": {},
   "source": [
    "After completing the matching between individuals' WTP range and disjoint intervals, we name the resulting chart D and can use the Turnbull's method (EM Algorithm) to optimize our estimation for WTP median. \n",
    "\n",
    "Let $F=(F(b_1),F(b_2),\\dots,F(b_{L-1}))'$ be the willingness-to-pay CDF values at the $L-1$ interior WTP values for which the survey elicits information. Since the cheaper the vaccine, the more likely people will pay for it, we assume our initial F to be {0.2, 0.4, 0.6, 0.7, 0.8, 0.8, 0.95}, where we temporarily omit our assumption $F(0)=0$ and $F(\\infty)=1$.\n",
    "\n",
    "Given D and F, we can calculate the possibility of one's WTP falls into certain intervals using the function $ \\mathbb{E}\\left[\\mathbf{1}\\left(b_{l} \\leq Y_{i} \\leq b_{l-1}\\right) \\mid D, F\\right]=\\frac{D_{i l}\\left[F_{l}-F_{l-1}\\right]}{\\sum_{k=1}^{L} D_{i k}\\left[F_{k}-F_{k-1}\\right]}$. Using the second row above as an example while assuming a evenly distributed probability among these 8 intervals, we know that "
   ]
  },
  {
   "cell_type": "markdown",
   "id": "a5e9c191",
   "metadata": {},
   "source": [
    "$$ \\mathbb{E}\\left[\\mathbf{1}\\left(300 \\leq Y_{i} \\leq 500\\right) \\mid D, F\\right] = \\mathbb{E}\\left[\\mathbf{1}\\left(500 \\leq Y_{i} \\leq 1000\\right) \\mid D, F\\right] = \\frac{0.1}{0.1+0.1+0.05+0.05} = \\frac{1}{3} $$"
   ]
  },
  {
   "cell_type": "markdown",
   "id": "6d49057b",
   "metadata": {},
   "source": [
    "\n",
    "$$\\mathbb{E}\\left[\\mathbf{1}\\left(1000 \\leq Y_{i} \\leq 2000\\right) \\mid D, F\\right] = \\mathbb{E}\\left[\\mathbf{1}\\left(2000 \\leq Y_{i} \\leq \\infty \\right) \\mid D, F\\right] = \\frac{0.05}{0.1+0.1+0.05+0.05} = \\frac{1}{6}$$"
   ]
  },
  {
   "cell_type": "markdown",
   "id": "dc9d7e5f",
   "metadata": {},
   "source": [
    "After understanding the logic behind the computation, we can finally write functions to implement it. The E_step function first manipulate F, adding $F(0)=0$ and $F(\\infty)=1$ into the CDF array and assign it to a variable called F_star. That is, F_star now contains CDF from to $b_0$ to $b_l$. Then, using the for loop, the E_step function find probability falling in between two distinct point: $F(b_l)-F(b_{l-1})$. For example, if = $F(b_2)$ = 0.4 and $F(b_1)$ = 0.2, E_step here calculate the probability $\\operatorname{Pr}\\left(b_1 \\leq Y_{i} \\leq b_2\\right) = 0.4-0.2 = 0.2$. Lastly, the E_step function converts 1s in the D table to probabilities, then sums all probabilities in each row to get the probability of that surveyed person falling within his/her WTP's upper and lower bound. Using these probabilities as numerator and denominator, the E_step function eventually returns a table of probabilities measuring how likely individuals fall within certain distinct WTP intervals. Using the first 10 rows of D and the F we assumed, we verify that the E_Step function operate exactly as what we computed above. "
   ]
  },
  {
   "cell_type": "code",
   "execution_count": 9,
   "id": "1da63b63",
   "metadata": {},
   "outputs": [],
   "source": [
    "def E_Step(F, D):\n",
    "    \n",
    "    \"\"\"\n",
    "    F : (F(b1),F(b2),...,F(bL)) willingness-to-pay CDF values, numpy (L-1,) array\n",
    "    D : N x L matrix of indicators for WTP\n",
    "    \"\"\"\n",
    "    \n",
    "    L = len(F) + 1           # number of disjoint intervals \n",
    "           \n",
    "    F_star = list(F)         # add 0 and 1 to list of CDF values \n",
    "    F_star.insert(0,0)\n",
    "    F_star.append(1)\n",
    "    \n",
    "    F_dif = []               # compute probability assigned to each of the l=1,..,L WTP intervals      \n",
    "                             # given current value of F\n",
    "    for l in range(L):\n",
    "        F_dif.append(F_star[l+1] - F_star[l])     \n",
    "    \n",
    "    delta_0  = D * F_dif         # N x L matrix with numerator values for delta_il, i = 1,..,N, l = 1,...,L\n",
    "    delta_1  = D @ F_dif         # N - vector with denominator values for delta_il, i = 1,..,N\n",
    "        \n",
    "    delta = delta_0.T / delta_1  # L x N matrix with posterior probability that each of the i = 1,..,N, \n",
    "                                 # units is in the l = 1,...,L bins given the data and current value of F\n",
    "    return delta.T          "
   ]
  },
  {
   "cell_type": "code",
   "execution_count": 10,
   "id": "91aeb93d",
   "metadata": {},
   "outputs": [
    {
     "data": {
      "text/html": [
       "<div>\n",
       "<style scoped>\n",
       "    .dataframe tbody tr th:only-of-type {\n",
       "        vertical-align: middle;\n",
       "    }\n",
       "\n",
       "    .dataframe tbody tr th {\n",
       "        vertical-align: top;\n",
       "    }\n",
       "\n",
       "    .dataframe thead th {\n",
       "        text-align: right;\n",
       "    }\n",
       "</style>\n",
       "<table border=\"1\" class=\"dataframe\">\n",
       "  <thead>\n",
       "    <tr style=\"text-align: right;\">\n",
       "      <th></th>\n",
       "      <th>D1</th>\n",
       "      <th>D2</th>\n",
       "      <th>D3</th>\n",
       "      <th>D4</th>\n",
       "      <th>D5</th>\n",
       "      <th>D6</th>\n",
       "      <th>D7</th>\n",
       "      <th>D8</th>\n",
       "    </tr>\n",
       "  </thead>\n",
       "  <tbody>\n",
       "    <tr>\n",
       "      <th>0</th>\n",
       "      <td>0.00</td>\n",
       "      <td>0.00</td>\n",
       "      <td>0.00</td>\n",
       "      <td>0.000</td>\n",
       "      <td>0.000000</td>\n",
       "      <td>1.000000</td>\n",
       "      <td>0.000000</td>\n",
       "      <td>0.000000</td>\n",
       "    </tr>\n",
       "    <tr>\n",
       "      <th>2</th>\n",
       "      <td>0.00</td>\n",
       "      <td>0.00</td>\n",
       "      <td>0.00</td>\n",
       "      <td>0.000</td>\n",
       "      <td>0.333333</td>\n",
       "      <td>0.333333</td>\n",
       "      <td>0.166667</td>\n",
       "      <td>0.166667</td>\n",
       "    </tr>\n",
       "    <tr>\n",
       "      <th>3</th>\n",
       "      <td>0.00</td>\n",
       "      <td>0.00</td>\n",
       "      <td>0.00</td>\n",
       "      <td>0.250</td>\n",
       "      <td>0.250000</td>\n",
       "      <td>0.250000</td>\n",
       "      <td>0.125000</td>\n",
       "      <td>0.125000</td>\n",
       "    </tr>\n",
       "    <tr>\n",
       "      <th>4</th>\n",
       "      <td>0.00</td>\n",
       "      <td>0.00</td>\n",
       "      <td>0.00</td>\n",
       "      <td>0.000</td>\n",
       "      <td>0.000000</td>\n",
       "      <td>0.500000</td>\n",
       "      <td>0.250000</td>\n",
       "      <td>0.250000</td>\n",
       "    </tr>\n",
       "    <tr>\n",
       "      <th>5</th>\n",
       "      <td>0.00</td>\n",
       "      <td>0.00</td>\n",
       "      <td>0.00</td>\n",
       "      <td>0.000</td>\n",
       "      <td>0.333333</td>\n",
       "      <td>0.333333</td>\n",
       "      <td>0.166667</td>\n",
       "      <td>0.166667</td>\n",
       "    </tr>\n",
       "    <tr>\n",
       "      <th>6</th>\n",
       "      <td>0.00</td>\n",
       "      <td>0.00</td>\n",
       "      <td>0.00</td>\n",
       "      <td>0.000</td>\n",
       "      <td>0.000000</td>\n",
       "      <td>0.000000</td>\n",
       "      <td>1.000000</td>\n",
       "      <td>0.000000</td>\n",
       "    </tr>\n",
       "    <tr>\n",
       "      <th>7</th>\n",
       "      <td>0.00</td>\n",
       "      <td>0.00</td>\n",
       "      <td>1.00</td>\n",
       "      <td>0.000</td>\n",
       "      <td>0.000000</td>\n",
       "      <td>0.000000</td>\n",
       "      <td>0.000000</td>\n",
       "      <td>0.000000</td>\n",
       "    </tr>\n",
       "    <tr>\n",
       "      <th>8</th>\n",
       "      <td>0.25</td>\n",
       "      <td>0.25</td>\n",
       "      <td>0.25</td>\n",
       "      <td>0.125</td>\n",
       "      <td>0.125000</td>\n",
       "      <td>0.000000</td>\n",
       "      <td>0.000000</td>\n",
       "      <td>0.000000</td>\n",
       "    </tr>\n",
       "    <tr>\n",
       "      <th>9</th>\n",
       "      <td>0.00</td>\n",
       "      <td>0.00</td>\n",
       "      <td>0.00</td>\n",
       "      <td>0.000</td>\n",
       "      <td>0.333333</td>\n",
       "      <td>0.333333</td>\n",
       "      <td>0.166667</td>\n",
       "      <td>0.166667</td>\n",
       "    </tr>\n",
       "    <tr>\n",
       "      <th>10</th>\n",
       "      <td>0.00</td>\n",
       "      <td>0.00</td>\n",
       "      <td>0.00</td>\n",
       "      <td>0.000</td>\n",
       "      <td>0.000000</td>\n",
       "      <td>1.000000</td>\n",
       "      <td>0.000000</td>\n",
       "      <td>0.000000</td>\n",
       "    </tr>\n",
       "  </tbody>\n",
       "</table>\n",
       "</div>"
      ],
      "text/plain": [
       "      D1    D2    D3     D4        D5        D6        D7        D8\n",
       "0   0.00  0.00  0.00  0.000  0.000000  1.000000  0.000000  0.000000\n",
       "2   0.00  0.00  0.00  0.000  0.333333  0.333333  0.166667  0.166667\n",
       "3   0.00  0.00  0.00  0.250  0.250000  0.250000  0.125000  0.125000\n",
       "4   0.00  0.00  0.00  0.000  0.000000  0.500000  0.250000  0.250000\n",
       "5   0.00  0.00  0.00  0.000  0.333333  0.333333  0.166667  0.166667\n",
       "6   0.00  0.00  0.00  0.000  0.000000  0.000000  1.000000  0.000000\n",
       "7   0.00  0.00  1.00  0.000  0.000000  0.000000  0.000000  0.000000\n",
       "8   0.25  0.25  0.25  0.125  0.125000  0.000000  0.000000  0.000000\n",
       "9   0.00  0.00  0.00  0.000  0.333333  0.333333  0.166667  0.166667\n",
       "10  0.00  0.00  0.00  0.000  0.000000  1.000000  0.000000  0.000000"
      ]
     },
     "execution_count": 10,
     "metadata": {},
     "output_type": "execute_result"
    }
   ],
   "source": [
    "F = np.array([0.2, 0.4, 0.6, 0.7, 0.8, 0.9, 0.95])\n",
    "D = vac[[\"D1\",\"D2\",\"D3\",\"D4\",\"D5\",\"D6\",\"D7\",\"D8\"]][0:10]\n",
    "E_Step(F, D)"
   ]
  },
  {
   "cell_type": "markdown",
   "id": "6cb9b72d",
   "metadata": {},
   "source": [
    "Once we construct the E-Step function, we can finally use Turnbull's method to estimate the median WTP for vaccination. Turnbull's method first starts with a random set of CDF(F_start), with predetermined max iteration limits(maxiter) and the max bearable difference between two iterations(xtol). The premise of iterations is the preset condition converged = False. First, we enter the while loop, using the E_Step function constructed above to calculate the table of probabilities measuring how likely individuals fall within certain distinct WTP intervals(delta).\n",
    "\n",
    "Then, we conduct the M-Step by first getting the average probability for each distinct interval(D1-D8) using np.mean(delta). Then, we find the cumulative probability by calling np.cumsum and eliminate the last interval [2000,$\\infty$) by applying [0:-1]. Once we have the CDF after E_step(F_em), we find the difference(epsilon) between it and F_start and compare it with xtol to see whether we can end the iteration. If xtol is greater than epsilon or we reach the maxiter, we finish the Turbulls' method by setting the converged = True. By doing so, we prevent our code from entering the next round of iteration since the while condition no longer holds. Therefore, this round's F_em is the optimized CDF found. However, if xtol is less than epsilon, there are still noticeable differences\n",
    "between each round of iteration, indicating room for improvement and optimization. Therefore, the F_em generated this round becomes the F_start for the next round, keeping iterated(iter += 1) until we reach the first condition."
   ]
  },
  {
   "cell_type": "code",
   "execution_count": 11,
   "id": "837b7518",
   "metadata": {
    "scrolled": false
   },
   "outputs": [
    {
     "name": "stdout",
     "output_type": "stream",
     "text": [
      "Iteration = 1,  2-norm of change in F = 0.755097\n",
      "Iteration = 2,  2-norm of change in F = 0.139070\n",
      "Iteration = 3,  2-norm of change in F = 0.036880\n",
      "Iteration = 4,  2-norm of change in F = 0.014662\n",
      "Iteration = 5,  2-norm of change in F = 0.007875\n",
      "Iteration = 6,  2-norm of change in F = 0.004771\n",
      "Iteration = 7,  2-norm of change in F = 0.003013\n",
      "Iteration = 8,  2-norm of change in F = 0.001937\n",
      "Iteration = 9,  2-norm of change in F = 0.001261\n",
      "Iteration = 10,  2-norm of change in F = 0.000829\n",
      "Iteration = 11,  2-norm of change in F = 0.000551\n",
      "Iteration = 12,  2-norm of change in F = 0.000370\n",
      "Iteration = 13,  2-norm of change in F = 0.000252\n",
      "Iteration = 14,  2-norm of change in F = 0.000175\n",
      "Iteration = 15,  2-norm of change in F = 0.000123\n"
     ]
    }
   ],
   "source": [
    "D = vac[[\"D1\",\"D2\",\"D3\",\"D4\",\"D5\",\"D6\",\"D7\",\"D8\"]]\n",
    "\n",
    "# starting values for Turnbull algorithm\n",
    "F_start = np.array([0.2, 0.4, 0.6, 0.7, 0.8, 0.9, 0.95])\n",
    "\n",
    "finished  = False\n",
    "converged = False\n",
    "xtol      = 0.0001\n",
    "maxiter   = 1000\n",
    "\n",
    "iter = 0  # initialize iteration counter\n",
    "\n",
    "while not converged:\n",
    "\n",
    "    # Print optimization output to screen\n",
    "    if (iter > 0): \n",
    "        print(\"Iteration = \"       + \"%.0f\" % iter + \\\n",
    "              \",  2-norm of change in F = \" + \"%.6f\" % epsilon)\n",
    "    \n",
    "    \n",
    "    # ----------------------------------------------------------------------#\n",
    "    # - E-Step: Compute posterior unit-specific WTP bin probabilities      -#\n",
    "    # ----------------------------------------------------------------------#\n",
    "    \n",
    "    delta = E_Step(F_start, D)\n",
    "    \n",
    "    # ----------------------------------------------------------------------#\n",
    "    # - M-Step: Update estimates of WTP distribution.                      -#\n",
    "    # ----------------------------------------------------------------------#\n",
    "    \n",
    "    F_em = np.cumsum(np.mean(delta))[0:-1]\n",
    "   \n",
    "    # Assess convergence \n",
    "    epsilon = np.linalg.norm(F_start-F_em)\n",
    "    \n",
    "    if (epsilon < xtol) | (iter >= maxiter):\n",
    "            finished = True\n",
    "            if (epsilon < xtol):\n",
    "                converged = True\n",
    "        \n",
    "    # Update parameters\n",
    "    F_start = F_em\n",
    "    iter += 1"
   ]
  },
  {
   "cell_type": "markdown",
   "id": "96acdc1d",
   "metadata": {},
   "source": [
    "After 15 iterations, our epsilon is smaller than our predetermined xtol(0.001). Therefore, we have our final Willingness-to-Pay CDF. "
   ]
  },
  {
   "cell_type": "code",
   "execution_count": 12,
   "id": "91b2cf5f",
   "metadata": {},
   "outputs": [
    {
     "name": "stdout",
     "output_type": "stream",
     "text": [
      "    wtp      F(y)    S(wtp)\n",
      "0     0  0.000000  1.000000\n",
      "1    50  0.009111  0.990889\n",
      "2   100  0.054626  0.945374\n",
      "3   200  0.144543  0.855457\n",
      "4   300  0.229426  0.770574\n",
      "5   500  0.381917  0.618083\n",
      "6  1000  0.589970  0.410030\n",
      "7  2000  0.784009  0.215991\n"
     ]
    },
    {
     "data": {
      "image/png": "[encoded data removed]",
      "text/plain": [
       "<Figure size 432x288 with 1 Axes>"
      ]
     },
     "metadata": {
      "needs_background": "light"
     },
     "output_type": "display_data"
    }
   ],
   "source": [
    "F_em_final = list(F_em).copy()\n",
    "F_em_final.insert(0,0)\n",
    "data_em = {\"wtp\" : [0, 50, 100, 200, 300, 500, 1000, 2000], \"F(y)\" : F_em_final}\n",
    "WTP_em = pd.DataFrame.from_dict(data_em)\n",
    "WTP_em['S(wtp)'] = 1 - WTP_em['F(y)'] \n",
    "\n",
    "print(WTP_em)\n",
    "\n",
    "# Plot estimate WTP survivor function\n",
    "fig_wtp_cdf, ax = plt.subplots()\n",
    "\n",
    "WTP_em.plot(x=\"wtp\",y=\"F(y)\", drawstyle=\"steps\", style='s-', linewidth=2, ax=ax)\n",
    "color = '#3B7EA1' # Founder's Rock\n",
    "ax.set_xlabel('Willingness-to-Pay', color=color)\n",
    "ax.set_ylabel(r'$F(y)$', color=color)\n",
    "ax.set_xticks([0, 100, 200, 300, 500, 1000, 2000])\n",
    "ax.set_yticks([0,0.2,0.4,0.6,0.8,1.0])\n",
    "\n",
    "fig_wtp_cdf.tight_layout()  # otherwise the right y-label is slightly clipped\n",
    "plt.savefig('fig_wtp_cdf', bbox_inches='tight', dpi=500) "
   ]
  },
  {
   "cell_type": "markdown",
   "id": "af2e65bd",
   "metadata": {},
   "source": [
    "Visualizing the CDF out with both table and graph, **we can see that the median WTP lays within the interval [500, 1000).** This result really surprises me. Looking back from 2022, when Covid-19 vaccines have 0 costs, I expect people's WTP for the Covid-19 vaccine to be around ¥200-¥300. The CDF distribution also surprises me because less than 25% of people's WTP for the Covid-19 vaccine falls below ¥300. This means that over 75% of people are willing to pay more than ¥300 to receive two vaccine doses. What's even more shocking is more than 50% of people are willing to pay more than ¥500 to receive two doses of vaccine. \n",
    "\n",
    "However, after reading [news](https://www.fiercepharma.com/vaccines/china-sinopharm-chief-narrows-down-covid-19-vaccine-price-to-within-145-for-2-dose-regimen#:~:text=Life%20Sciences%20Events-,Sinopharm%20chief%20says%20COVID%2D19%20vaccine%20will%20cost%20less,%24145%20for%202%2Ddose%20regimen) about the Chinese Covid-19 vaccine price expectation released in 2020, I found my estimation of [500,1000) is surprisingly accurate! From pharmaceutical companies' perspective, developing the Covid-19 vaccine in such a short time frame requires substantial human and capital investments, which need to be paid off by selling vaccines to the general public. From the perspective of Chinese citizens back in 2020, Covid-19's transmission and fatality rates are significantly higher than other influenzas. Meanwhile, the lockdown of Wuhan and continuously quarantee in other cities pushed people's panic and worry to the climax. Under such circumstances, the newly developed vaccine could be considered the last resort to get back to normal life. Therefore, the public might be willing to be vaccinated even at a high cost. Thus, the matching of supply side and demand side rationalize this high price expectation of Covid-19 Vaccine. \n",
    "\n",
    "After obtained the median WTP in general, I am curious on different groups' median WTPs. Therefore, for the next section, I will first use the probit model, looking for 2 respondent attributes that contributes to individuals' WTP. Then, I will further examine the median WTPs for each subgroup categorized by these attributes. "
   ]
  },
  {
   "cell_type": "markdown",
   "id": "33da3ac7",
   "metadata": {},
   "source": [
    "### Section 3. Identify Key Respondent Attributes For Willingness-to-Pay Using Parametric Estimation"
   ]
  },
  {
   "cell_type": "code",
   "execution_count": 13,
   "id": "688720ab",
   "metadata": {},
   "outputs": [],
   "source": [
    "# Obtain the second price asked using the following logic:\n",
    "# if response1=0, then the surveyed individual refuses bid0, \n",
    "# this means PT2=bidl\n",
    "# if response1=1, then the surveyed individual accepts bid0, \n",
    "# this means PT2=bidh\n",
    "PT2 = []\n",
    "for i in vac.index:\n",
    "    if vac.loc[i,:]['response1'] == 1:\n",
    "        price2 = vac.loc[i,:]['bidh']\n",
    "    else:\n",
    "        price2 = vac.loc[i,:]['bidl']\n",
    "    PT2.append(price2)\n",
    "vac['PT2'] = PT2"
   ]
  },
  {
   "cell_type": "code",
   "execution_count": 14,
   "id": "49bbb384",
   "metadata": {},
   "outputs": [
    {
     "name": "stdout",
     "output_type": "stream",
     "text": [
      "Optimization terminated successfully.\n",
      "         Current function value: 0.607968\n",
      "         Iterations 5\n"
     ]
    },
    {
     "data": {
      "text/html": [
       "<table class=\"simpletable\">\n",
       "<caption>Probit Regression Results</caption>\n",
       "<tr>\n",
       "  <th>Dep. Variable:</th>       <td>response2</td>    <th>  No. Observations:  </th>  <td>  1905</td>  \n",
       "</tr>\n",
       "<tr>\n",
       "  <th>Model:</th>                <td>Probit</td>      <th>  Df Residuals:      </th>  <td>  1901</td>  \n",
       "</tr>\n",
       "<tr>\n",
       "  <th>Method:</th>                 <td>MLE</td>       <th>  Df Model:          </th>  <td>     3</td>  \n",
       "</tr>\n",
       "<tr>\n",
       "  <th>Date:</th>            <td>Fri, 13 May 2022</td> <th>  Pseudo R-squ.:     </th>  <td>0.02731</td> \n",
       "</tr>\n",
       "<tr>\n",
       "  <th>Time:</th>                <td>23:36:23</td>     <th>  Log-Likelihood:    </th> <td> -1158.2</td> \n",
       "</tr>\n",
       "<tr>\n",
       "  <th>converged:</th>             <td>True</td>       <th>  LL-Null:           </th> <td> -1190.7</td> \n",
       "</tr>\n",
       "<tr>\n",
       "  <th>Covariance Type:</th>     <td>nonrobust</td>    <th>  LLR p-value:       </th> <td>4.946e-14</td>\n",
       "</tr>\n",
       "</table>\n",
       "<table class=\"simpletable\">\n",
       "<tr>\n",
       "      <td></td>         <th>coef</th>     <th>std err</th>      <th>z</th>      <th>P>|z|</th>  <th>[0.025</th>    <th>0.975]</th>  \n",
       "</tr>\n",
       "<tr>\n",
       "  <th>Intercept</th> <td>    0.5659</td> <td>    0.081</td> <td>    6.996</td> <td> 0.000</td> <td>    0.407</td> <td>    0.724</td>\n",
       "</tr>\n",
       "<tr>\n",
       "  <th>inc2019</th>   <td>    0.0715</td> <td>    0.027</td> <td>    2.696</td> <td> 0.007</td> <td>    0.020</td> <td>    0.124</td>\n",
       "</tr>\n",
       "<tr>\n",
       "  <th>male</th>      <td>   -0.1250</td> <td>    0.062</td> <td>   -2.015</td> <td> 0.044</td> <td>   -0.247</td> <td>   -0.003</td>\n",
       "</tr>\n",
       "<tr>\n",
       "  <th>PT2</th>       <td>   -0.0004</td> <td> 5.59e-05</td> <td>   -7.547</td> <td> 0.000</td> <td>   -0.001</td> <td>   -0.000</td>\n",
       "</tr>\n",
       "</table>"
      ],
      "text/plain": [
       "<class 'statsmodels.iolib.summary.Summary'>\n",
       "\"\"\"\n",
       "                          Probit Regression Results                           \n",
       "==============================================================================\n",
       "Dep. Variable:              response2   No. Observations:                 1905\n",
       "Model:                         Probit   Df Residuals:                     1901\n",
       "Method:                           MLE   Df Model:                            3\n",
       "Date:                Fri, 13 May 2022   Pseudo R-squ.:                 0.02731\n",
       "Time:                        23:36:23   Log-Likelihood:                -1158.2\n",
       "converged:                       True   LL-Null:                       -1190.7\n",
       "Covariance Type:            nonrobust   LLR p-value:                 4.946e-14\n",
       "==============================================================================\n",
       "                 coef    std err          z      P>|z|      [0.025      0.975]\n",
       "------------------------------------------------------------------------------\n",
       "Intercept      0.5659      0.081      6.996      0.000       0.407       0.724\n",
       "inc2019        0.0715      0.027      2.696      0.007       0.020       0.124\n",
       "male          -0.1250      0.062     -2.015      0.044      -0.247      -0.003\n",
       "PT2           -0.0004   5.59e-05     -7.547      0.000      -0.001      -0.000\n",
       "==============================================================================\n",
       "\"\"\""
      ]
     },
     "execution_count": 14,
     "metadata": {},
     "output_type": "execute_result"
    }
   ],
   "source": [
    "# Conduct Probit regression usong income and gender \n",
    "mod = smf.probit('response2 ~ inc2019+male+PT2', data = vac).fit()\n",
    "mod.summary()"
   ]
  },
  {
   "cell_type": "markdown",
   "id": "4ad1fd03",
   "metadata": {},
   "source": [
    "I choose income and gender among all these variables to conduct further analysis. For income, people with higher income may be willing to pay more for vaccines to make themselve better protected. Therefore, I predict a positive relationship between income and individuals' WTP. For gender, females' immune systems may be biologically weaker than males'. Therefore, compared with males, they are more concerned about the severe effect caused by Covid-19. Thus, females are willing to pay more for the vaccine. Consequently, I predict a negative relationship between gender and individuals' WTP since females are labeled 0 and males are labeled 1.  \n",
    "\n",
    "Using the Probit model constructed, $Y_i = \\beta_0 + \\beta_1Income + \\beta_2gender+e_i$, we have \n",
    "\n",
    "\\begin{equation} \\label{eq1}\n",
    "\\begin{split}\n",
    "Pr(Y_i=1|X_i) & = Pr(WTP \\ge PT2) \\\\\n",
    " & = Pr(\\beta_0 + \\beta_1Income + \\beta_2gender+e_i \\ge PT2) \\\\ \n",
    " & = Pr(\\beta_0 + \\beta_1Income + \\beta_2gender-PT2 \\ge -e_i) \\\\\n",
    " & = Pr(\\frac{\\beta_0 + \\beta_1Income + \\beta_2gender-PT2}{\\sigma} \\ge -\\frac{e_i}{\\sigma}) \\\\\n",
    " & = Pr(-\\frac{e_i}{\\sigma} \\le \\frac{\\beta_0}{\\sigma} + \\frac{\\beta_1Income}{\\sigma} + \\frac{\\beta_2gender}{\\sigma} - \\frac{PT2}{\\sigma})\n",
    "\\end{split}\n",
    "\\end{equation}\n",
    "\n",
    "Constructing Probit regression, we can see that our prediction is correct. While income has a positive coefficient 0.0715, gender has a negative coefficient -0.1250. Both coefficients have p < 0.05, indicating their statistical significance. \n",
    "\n",
    "Having income and gender as our respondent attributes, we can choose specific subsamples based these two respondent attributes"
   ]
  },
  {
   "cell_type": "markdown",
   "id": "4ab6e428",
   "metadata": {},
   "source": [
    "### Section 4. Compute Median Willingness-to-Pay for Different Subsamples using Parametric Estimation"
   ]
  },
  {
   "cell_type": "markdown",
   "id": "5dd6dcf8",
   "metadata": {},
   "source": [
    "Obtained the coefficients for the intercept term, income, gender, and PT2, we can calculate the cdf of any price given using the following formula:"
   ]
  },
  {
   "cell_type": "markdown",
   "id": "30e5b6b6",
   "metadata": {},
   "source": [
    "\\begin{equation} \\label{eq1}\n",
    "\\begin{split}\n",
    "F_{WTP}(PT2) & = Pr(WTP_i \\le PT2) \\\\\n",
    " & = Pr(\\beta_0+\\beta_1Income+\\beta_2gender+e_i \\le PT2) \\\\ \n",
    " & = Pr(\\beta_0+\\beta_1Income+\\beta_2gender-PT2 \\le -e_i) \\\\\n",
    " & = Pr(-e_i \\le -\\beta_0-\\beta_1Income+-beta_2gender+PT2) \\\\\n",
    " & = \\phi(-\\frac{\\beta_0}{\\sigma} - \\frac{\\beta_1Income}{\\sigma} - \\frac{\\beta_2gender}{\\sigma} + \\frac{PT2}{\\sigma})\n",
    "\\end{split}\n",
    "\\end{equation}"
   ]
  },
  {
   "cell_type": "markdown",
   "id": "8f629e5e",
   "metadata": {},
   "source": [
    "Therefore, we can calculate the CDF for specific subsamples using the function cdf_calculation. This function takes two arguments: variable and subgroup. While the variable measures the targeted column, the subgroup measures the specific subgroup within this column. For example, if we are interested in the median WTP for people whose income is higher than or equal to ¥8000, we first check the right labels on the top to check the subgroup number. Once we know it is 4, we assign variable = \"inc2019\" and subgroup = 4 to compute this group's WTP CDF. \n",
    "\n",
    "Unlike the nonparametric estimation done in section 2, where we can only estimate CDF at boundary values, one of the advantages of parametric estimation is that we can estimate any CDF points given price2. Therefore, I define several functions to find the median WTP for each subsample by finding the corresponding price2. \n",
    "\n",
    "Here is the detailed procedure. First, I define a separate function called **cdf** to calculate this group's WTP CDF given price2. Given CDF at the boundary values, we can easily find the interval where the median WTP lays. For example, For subsample income=4, its median WTP(0.5) lies between 0.360136 and 0.525204, which corresponds to [1000, 2000) price interval. Once we have this interval, we can feed each number in the interval into the CDF function to see whether this price corresponds to the median WTP. To make this process more interactive, I created a widget slider with an initial start value of the price closest to the median. This price is obtained by calling the **find_nearest** function defined earlier. The slider's input is price2, and its output is the corresponding WTP CDF. Audiences can slide through all the numbers within the targeted interval and stop at the median one. "
   ]
  },
  {
   "cell_type": "code",
   "execution_count": 15,
   "id": "1e5464e1",
   "metadata": {},
   "outputs": [],
   "source": [
    "def find_nearest(cdf, pt2, value = 0.5):\n",
    "    # this function first finds the index of the closest cdf to the median value 0.5\n",
    "    # then this function returns the corresponding price2 using the index obtained\n",
    "    # for example, pt2 = 50, 100, 200, 300, 500, 1000, 2000\n",
    "    # and cdf  0.224121, 0.230476, 0.243481, 0.256872, 0.284762, 0.360136, 0.525204\n",
    "    # the closest CDF is 0.525204; corresponsing index = 6\n",
    "    # this function will return pt2[6], which is 2000\n",
    "    cdf = np.asarray(cdf)\n",
    "    idx = (np.abs(cdf - value)).argmin() \n",
    "    return pt2[idx]"
   ]
  },
  {
   "cell_type": "code",
   "execution_count": 16,
   "id": "8f7c672f",
   "metadata": {},
   "outputs": [],
   "source": [
    "def cdf_calculation(variable, subgroup, percentile=0.5):\n",
    "    #delta = coeffecients obtained from the probit regression \n",
    "    #data = subsampled data using assigned variable and subgroup\n",
    "    # income = subsample's income values\n",
    "    #gender = subsample's gender values\n",
    "    #pt2 = disjoint interval boundaries listed in nonparametric estimation part\n",
    "    #y = the resulting CDF\n",
    "    \n",
    "    delta = mod.params    \n",
    "    data = vac[vac[variable]==subgroup]   \n",
    "    income = (data[[\"inc2019\"]] * delta['inc2019']).astype('float64') \n",
    "    gender = (data[[\"male\"]] * delta['male']).astype('float64') \n",
    "    pt2= [50,100,200,300,500,1000,2000]                                                               \n",
    "    y = [(norm.cdf(-delta.iloc[0]-income.values-gender.values-\n",
    "                   wtp_sample*delta['PT2']).mean()) for wtp_sample in pt2]\n",
    "    print(pd.DataFrame({\"PT2\":pt2, \"F(y)\": y}))\n",
    "    \n",
    "    def cdf(price2):\n",
    "        return norm.cdf(-delta.iloc[0]-income.values-gender.values-price2*delta['PT2']).mean()\n",
    "    \n",
    "    interact(cdf, price2=pt2[pt2.index(find_nearest(y, pt2, percentile))-1]);"
   ]
  },
  {
   "cell_type": "code",
   "execution_count": 17,
   "id": "ca13edff",
   "metadata": {},
   "outputs": [
    {
     "name": "stdout",
     "output_type": "stream",
     "text": [
      "    PT2      F(y)\n",
      "0    50  0.224121\n",
      "1   100  0.230476\n",
      "2   200  0.243481\n",
      "3   300  0.256872\n",
      "4   500  0.284762\n",
      "5  1000  0.360136\n",
      "6  2000  0.525204\n"
     ]
    },
    {
     "data": {
      "application/vnd.jupyter.widget-view+json": {
       "model_id": "dfc4240b72b441308e7346cc68e3ecff",
       "version_major": 2,
       "version_minor": 0
      },
      "text/plain": [
       "interactive(children=(IntSlider(value=1000, description='price2', max=3000, min=-1000), Output()), _dom_classe…"
      ]
     },
     "metadata": {},
     "output_type": "display_data"
    }
   ],
   "source": [
    "cdf_calculation('inc2019', 4)"
   ]
  },
  {
   "cell_type": "code",
   "execution_count": 18,
   "id": "61b89c7e",
   "metadata": {},
   "outputs": [
    {
     "name": "stdout",
     "output_type": "stream",
     "text": [
      "    PT2      F(y)\n",
      "0    50  0.241436\n",
      "1   100  0.248054\n",
      "2   200  0.261576\n",
      "3   300  0.275466\n",
      "4   500  0.304289\n",
      "5  1000  0.381534\n",
      "6  2000  0.547700\n"
     ]
    },
    {
     "data": {
      "application/vnd.jupyter.widget-view+json": {
       "model_id": "198a514c21564abd8c48cadd8db8d778",
       "version_major": 2,
       "version_minor": 0
      },
      "text/plain": [
       "interactive(children=(IntSlider(value=1000, description='price2', max=3000, min=-1000), Output()), _dom_classe…"
      ]
     },
     "metadata": {},
     "output_type": "display_data"
    }
   ],
   "source": [
    "cdf_calculation('inc2019', 3)"
   ]
  },
  {
   "cell_type": "code",
   "execution_count": 19,
   "id": "047cb08c",
   "metadata": {},
   "outputs": [
    {
     "name": "stdout",
     "output_type": "stream",
     "text": [
      "    PT2      F(y)\n",
      "0    50  0.261247\n",
      "1   100  0.268143\n",
      "2   200  0.282204\n",
      "3   300  0.296612\n",
      "4   500  0.326390\n",
      "5  1000  0.405463\n",
      "6  2000  0.572253\n"
     ]
    },
    {
     "data": {
      "application/vnd.jupyter.widget-view+json": {
       "model_id": "ab7bc7c8737b4e0a88520c521439390a",
       "version_major": 2,
       "version_minor": 0
      },
      "text/plain": [
       "interactive(children=(IntSlider(value=1000, description='price2', max=3000, min=-1000), Output()), _dom_classe…"
      ]
     },
     "metadata": {},
     "output_type": "display_data"
    }
   ],
   "source": [
    "cdf_calculation('inc2019', 2)"
   ]
  },
  {
   "cell_type": "code",
   "execution_count": 20,
   "id": "8f914af5",
   "metadata": {},
   "outputs": [
    {
     "name": "stdout",
     "output_type": "stream",
     "text": [
      "    PT2      F(y)\n",
      "0    50  0.282566\n",
      "1   100  0.289733\n",
      "2   200  0.304317\n",
      "3   300  0.319218\n",
      "4   500  0.349894\n",
      "5  1000  0.430576\n",
      "6  2000  0.597351\n"
     ]
    },
    {
     "data": {
      "application/vnd.jupyter.widget-view+json": {
       "model_id": "96b727c99d56498bb10ca18c1b779a74",
       "version_major": 2,
       "version_minor": 0
      },
      "text/plain": [
       "interactive(children=(IntSlider(value=500, description='price2', max=1500, min=-500), Output()), _dom_classes=…"
      ]
     },
     "metadata": {},
     "output_type": "display_data"
    }
   ],
   "source": [
    "cdf_calculation('inc2019', 1)"
   ]
  },
  {
   "cell_type": "code",
   "execution_count": 21,
   "id": "25b0e083",
   "metadata": {},
   "outputs": [
    {
     "name": "stdout",
     "output_type": "stream",
     "text": [
      "    PT2      F(y)\n",
      "0    50  0.265567\n",
      "1   100  0.272510\n",
      "2   200  0.286661\n",
      "3   300  0.301152\n",
      "4   500  0.331076\n",
      "5  1000  0.410379\n",
      "6  2000  0.576985\n"
     ]
    },
    {
     "data": {
      "application/vnd.jupyter.widget-view+json": {
       "model_id": "7e27ebf140ee4a32b19f04cd6b642132",
       "version_major": 2,
       "version_minor": 0
      },
      "text/plain": [
       "interactive(children=(IntSlider(value=1000, description='price2', max=3000, min=-1000), Output()), _dom_classe…"
      ]
     },
     "metadata": {},
     "output_type": "display_data"
    }
   ],
   "source": [
    "cdf_calculation('male', 1)"
   ]
  },
  {
   "cell_type": "code",
   "execution_count": 22,
   "id": "20a0d0fc",
   "metadata": {},
   "outputs": [
    {
     "name": "stdout",
     "output_type": "stream",
     "text": [
      "    PT2      F(y)\n",
      "0    50  0.236343\n",
      "1   100  0.242876\n",
      "2   200  0.256229\n",
      "3   300  0.269956\n",
      "4   500  0.298469\n",
      "5  1000  0.375065\n",
      "6  2000  0.540705\n"
     ]
    },
    {
     "data": {
      "application/vnd.jupyter.widget-view+json": {
       "model_id": "5d59e4185072456db5f6d01d22bd9d63",
       "version_major": 2,
       "version_minor": 0
      },
      "text/plain": [
       "interactive(children=(IntSlider(value=1000, description='price2', max=3000, min=-1000), Output()), _dom_classe…"
      ]
     },
     "metadata": {},
     "output_type": "display_data"
    }
   ],
   "source": [
    "cdf_calculation('male', 0)"
   ]
  },
  {
   "cell_type": "markdown",
   "id": "9dce4fa6",
   "metadata": {},
   "source": [
    "Using the **cdf_calculation** function, audiences can examine WTP for any subsamples for any percentile. For example, the slider below expresses the 70th percentile WTP for people with medical related work experience. "
   ]
  },
  {
   "cell_type": "code",
   "execution_count": 23,
   "id": "3c41b2a2",
   "metadata": {},
   "outputs": [
    {
     "name": "stdout",
     "output_type": "stream",
     "text": [
      "    PT2      F(y)\n",
      "0    50  0.241925\n",
      "1   100  0.248534\n",
      "2   200  0.262037\n",
      "3   300  0.275906\n",
      "4   500  0.304681\n",
      "5  1000  0.381775\n",
      "6  2000  0.547565\n"
     ]
    },
    {
     "data": {
      "application/vnd.jupyter.widget-view+json": {
       "model_id": "a1d17aa232624e2095984cfc4ac97f03",
       "version_major": 2,
       "version_minor": 0
      },
      "text/plain": [
       "interactive(children=(IntSlider(value=1000, description='price2', max=3000, min=-1000), Output()), _dom_classe…"
      ]
     },
     "metadata": {},
     "output_type": "display_data"
    }
   ],
   "source": [
    "cdf_calculation('work', 1, 0.7)"
   ]
  },
  {
   "cell_type": "markdown",
   "id": "2cb032c8",
   "metadata": {},
   "source": [
    "### Section 5. Limits and Conclusion "
   ]
  },
  {
   "cell_type": "markdown",
   "id": "41f2ca1b",
   "metadata": {},
   "source": [
    "All in all, this project researches Chinese citizens' willingness to pay for the Covid-19 vaccine back in 2020. We first examine the demography and socioeconomic status of people refusing to receive the vaccination. After finding out that the socioeconomic distribution within these no-vaccine people is approximately the same as within the overall pooled sample, we shift our attention to finding the median WTP in general using nonparametric estimation. Using Turbull's estimation, we find out people's WTP median lies within the [500, 1000) interval, which surprises me since this high price contrasts sharply with the current 0 cost Covid-19 vaccine. Acknowledging nonparametric estimation's limits, we use the probit model to construct parametric estimation for different subgroups' WTP using two variables income and gender. We first build a probit regression to ensure these two variables indeed contribute to people's different WTP: both variables have $p \\le 0.05$, which means this result is statistically significant. Then, we compute each subgroup's median WTP using the probit model. \n",
    "\n",
    "Looking at these estimations, we find that people's median WTP lies within [500,1000) for nonparametric estimation. However, for parametric estimation, people's median WTP lies within [1000,2000) regardless of the minor differences. From a personal perspective, this difference can be explained by the pros and cons of these two methods. For the nonparametric estimation method, its result accuracy high depends on the initial F value passed into the E-step. If the F passed in is way off from the true CDF distribution, and we don't have enough iteration to change it gradually, the resulting CDF might differ from the true parameter. \n",
    "\n",
    "Regardless of the shortcoming of the nonparametric method, the limit of the parametric estimation can also cause this difference. For parametric estimation, if the distribution assumption is violated, the true relationship between price and variables is not linear, then the results are not reliable. For future improvement, when constructing the probit model, maybe we can do model selection using empirical risk minimization to find the best fit polynomial function for the dependent and independent variables. Then, we can calculate the WTP using the function discovered. \n",
    "\n",
    "Also, if we pay attention to the data acquisition channel, we can see that this data is collected via an online survey platform called Wenjuanxing. This method implies that this survey is only accessible to people with internet/mobile device access. That is, the sample selected may disproportionally represent the high-income community, causing a sample selection bias. This bias may explain such high WTP estimated for both nonparametric and parametric methods. For future improvement, researchers could collect online and offline data to make the dataset more representative. "
   ]
  },
  {
   "cell_type": "markdown",
   "id": "1aa578a7",
   "metadata": {},
   "source": [
    "### Section 6. Credit and Citation "
   ]
  },
  {
   "cell_type": "markdown",
   "id": "87b85bbd",
   "metadata": {},
   "source": [
    "Graham Bryan, Gao Mengsi. Econ 143 Problem Set 2 Contigent Valuation\n",
    "\n",
    "Liu, Angus. “Sinopharm Chief Says Covid-19 Vaccine Will Cost Less than $145 for 2-Dose Regimen.” Fierce Pharma, 18 Aug. 2020 \n",
    "\n",
    "Xiao, Jianhong et al. “Scope Issue in Contingent Valuation Studies of the COVID-19 Vaccine: The Case of China.” Applied health economics and health policy vol. 20,3 (2022): 417-429. doi:10.1007/s40258-021-00706-9"
   ]
  }
 ],
 "metadata": {
  "kernelspec": {
   "display_name": "Python 3 (ipykernel)",
   "language": "python",
   "name": "python3"
  },
  "language_info": {
   "codemirror_mode": {
    "name": "ipython",
    "version": 3
   },
   "file_extension": ".py",
   "mimetype": "text/x-python",
   "name": "python",
   "nbconvert_exporter": "python",
   "pygments_lexer": "ipython3",
   "version": "3.9.12"
  }
 },
 "nbformat": 4,
 "nbformat_minor": 5
}
